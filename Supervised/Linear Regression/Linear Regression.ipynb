{
 "cells": [
  {
   "cell_type": "markdown",
   "metadata": {},
   "source": [
    ">Here we'll use linear regression to predict life expectancy from **BMI** (body mass index).\n",
    ">For your linear regression model, we'll be using scikit-learn's **LinearRegression** class. \n",
    ">This class provides the function **fit()** to fit the model to your data. \n",
    "---\n",
    ">We'll we use working with data on the average life expectancy at birth and the average BMI for males across the world.\n",
    ">The data includes three columns containing data:\n",
    "   - **Country** - The country the person was born in.\n",
    "   - **BMI** - The mean BMI of males in country.\n",
    "   - **Life Expectancy** - The average life expectancy at birth for a person in that country.\n",
    "> For building model and prediction, we'll need to perform some steps:\n",
    "\n",
    "1.  **Import Libararies**\n",
    "2.  **Load the data**\n",
    "3.  **Build a model**\n",
    "4.  **Predict using the model**\n"
   ]
  },
  {
   "cell_type": "code",
   "execution_count": 1,
   "metadata": {},
   "outputs": [],
   "source": [
    "#Importing necessary libary \n",
    "import numpy as np\n",
    "import matplotlib.pyplot as plt\n",
    "import pandas as pd\n",
    "from sklearn.linear_model import LinearRegression"
   ]
  },
  {
   "cell_type": "code",
   "execution_count": null,
   "metadata": {},
   "outputs": [],
   "source": []
  }
 ],
 "metadata": {
  "kernelspec": {
   "display_name": "Python 3",
   "language": "python",
   "name": "python3"
  },
  "language_info": {
   "codemirror_mode": {
    "name": "ipython",
    "version": 3
   },
   "file_extension": ".py",
   "mimetype": "text/x-python",
   "name": "python",
   "nbconvert_exporter": "python",
   "pygments_lexer": "ipython3",
   "version": "3.7.9"
  }
 },
 "nbformat": 4,
 "nbformat_minor": 4
}
