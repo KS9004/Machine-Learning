{
 "cells": [
  {
   "cell_type": "markdown",
   "metadata": {},
   "source": [
    "Here we'll we use decisiontree to fit given sample data.\n",
    "For your decision tree model, you'll be using scikit-learn's **DecisionTree Classifier** class. \n",
    "**This class provides the functions to define and fit the model to your data.**\n",
    "\n",
    "Before building model we need to know about hyperparameters used in decision tree:\n",
    "\n",
    "- **max_depth:** The maximum number of levels in the tree.\n",
    "- **min_samples_leaf:** The minimum number of samples allowed in a leaf.\n",
    "- **min_samples_split:** The minimum number of samples required to split an internal node.\n",
    "- **max_features :** The number of features to consider when looking for the best split.\n",
    "\n",
    "**For building model and prediction, we'll need to perform some steps:**\n",
    "\n",
    "**1. Build a decision tree model**\n",
    "\n",
    "Create a decision tree classification model using scikit-learn's **DecisionTree** and assign it to the variable **model**.\n",
    "\n",
    "**2. Fit the model to the data**\n",
    "\n",
    "You won't need to specify any of the hyperparameters, since the default ones will fit the data with an accuracy of 100% in the dataset. However, we encourage you to play with hyperparameters such as **max_depth** and **min_samples_leaf**, and try to find the simplest possible model, i.e., the least likely one to overfit!\n",
    "\n",
    "**3. Predict using the model**\n",
    "\n",
    "Predict the labels for the training set, and assign this list to the variable **y_pred**.\n",
    "\n",
    "**4. Calculate the accuracy of the model**\n",
    "For this, use the function sklearn function **accuracy_score**.\n",
    "\n",
    "\n"
   ]
  },
  {
   "cell_type": "code",
   "execution_count": 2,
   "metadata": {},
   "outputs": [],
   "source": [
    "#Import necessary libararies"
   ]
  },
  {
   "cell_type": "code",
   "execution_count": null,
   "metadata": {},
   "outputs": [],
   "source": []
  }
 ],
 "metadata": {
  "kernelspec": {
   "display_name": "Python 3",
   "language": "python",
   "name": "python3"
  },
  "language_info": {
   "codemirror_mode": {
    "name": "ipython",
    "version": 3
   },
   "file_extension": ".py",
   "mimetype": "text/x-python",
   "name": "python",
   "nbconvert_exporter": "python",
   "pygments_lexer": "ipython3",
   "version": "3.7.9"
  }
 },
 "nbformat": 4,
 "nbformat_minor": 4
}
