{
 "cells": [
  {
   "cell_type": "markdown",
   "metadata": {},
   "source": [
    ">Here we'll use linear regression to predict life expectancy from **BMI** (body mass index).\n",
    ">For your linear regression model, we'll be using scikit-learn's **LinearRegression** class. \n",
    ">This class provides the function **fit()** to fit the model to your data. \n",
    "---\n",
    ">We'll we use working with data on the average life expectancy at birth and the average BMI for males across the world.\n",
    ">The data includes three columns containing data:\n",
    "   - **Country** - The country the person was born in.\n",
    "   - **BMI** - The mean BMI of males in country.\n",
    "   - **Life Expectancy** - The average life expectancy at birth for a person in that country.\n",
    "> For building model and prediction, we'll need to perform some steps:\n",
    "\n",
    "1.  **Import Libararies**\n",
    "2.  **Load the data**\n",
    "3.  **Build a model**\n",
    "4.  **Predict using the model**\n"
   ]
  },
  {
   "cell_type": "code",
   "execution_count": 1,
   "metadata": {},
   "outputs": [],
   "source": [
    "#Importing necessary libary \n",
    "import numpy as np\n",
    "import matplotlib.pyplot as plt\n",
    "import pandas as pd\n",
    "from sklearn.linear_model import LinearRegression"
   ]
  },
  {
   "cell_type": "code",
   "execution_count": 2,
   "metadata": {},
   "outputs": [],
   "source": [
    "#Load the Data\n",
    "#The data in the file called bmi_&_life_expectancy.csv\n",
    "#use read_csv (read_csv is pandas function to load data) to load data into data frame\n",
    "#and assign to variable bmi_life_expt\n",
    "\n",
    "bmi_life_expt = pd.read_csv(\"bmi_&_life_expectancy.csv\")"
   ]
  },
  {
   "cell_type": "code",
   "execution_count": 3,
   "metadata": {},
   "outputs": [
    {
     "data": {
      "text/plain": [
       "LinearRegression()"
      ]
     },
     "execution_count": 3,
     "metadata": {},
     "output_type": "execute_result"
    }
   ],
   "source": [
    "#Build the mode\n",
    "#Buliding and fitting the model and assign it to bmi_lfe_model\n",
    "\n",
    "bmi_lfe_model = LinearRegression()\n",
    "bmi_lfe_model.fit(bmi_life_expt[[\"BMI\"]],bmi_life_expt[[\"Life expectancy\"]])"
   ]
  },
  {
   "cell_type": "code",
   "execution_count": 7,
   "metadata": {},
   "outputs": [
    {
     "name": "stdout",
     "output_type": "stream",
     "text": [
      "[[57.80248172]]\n"
     ]
    }
   ],
   "source": [
    "#Predict using model\n",
    "#Make prediction using model (bmi_lfe_model) function predict()\n",
    "#Predict life expectancy for a BMI value of 20.08142\n",
    "life_exp = bmi_lfe_model.predict([[20.08142]])\n",
    "print(life_exp)"
   ]
  },
  {
   "cell_type": "code",
   "execution_count": null,
   "metadata": {},
   "outputs": [],
   "source": []
  }
 ],
 "metadata": {
  "kernelspec": {
   "display_name": "Python 3",
   "language": "python",
   "name": "python3"
  },
  "language_info": {
   "codemirror_mode": {
    "name": "ipython",
    "version": 3
   },
   "file_extension": ".py",
   "mimetype": "text/x-python",
   "name": "python",
   "nbconvert_exporter": "python",
   "pygments_lexer": "ipython3",
   "version": "3.7.9"
  }
 },
 "nbformat": 4,
 "nbformat_minor": 4
}
